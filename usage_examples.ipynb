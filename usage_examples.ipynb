{
 "cells": [
  {
   "cell_type": "markdown",
   "id": "737616c8",
   "metadata": {},
   "source": [
    "# Hey, maikol here"
   ]
  },
  {
   "cell_type": "code",
   "execution_count": 1,
   "id": "021a9d36",
   "metadata": {},
   "outputs": [],
   "source": [
    "# For testing and showing\n",
    "%load_ext autoreload\n",
    "%autoreload 2"
   ]
  },
  {
   "cell_type": "markdown",
   "id": "725d5b37",
   "metadata": {},
   "source": [
    "### File functions"
   ]
  },
  {
   "cell_type": "markdown",
   "id": "423e92e9",
   "metadata": {},
   "source": [
    "- `make_dirs`"
   ]
  },
  {
   "cell_type": "code",
   "execution_count": 2,
   "id": "1c862aa1",
   "metadata": {},
   "outputs": [
    {
     "data": {
      "text/plain": [
       "[False, False]"
      ]
     },
     "execution_count": 2,
     "metadata": {},
     "output_type": "execute_result"
    }
   ],
   "source": [
    "from maikol_utils.file_utils import make_dirs\n",
    "\n",
    "dirs = [\"./data/input\", \"./data/output\"]\n",
    "# Safely creates all these directories if they don't exist\n",
    "# Return whether the directories EXISTED created or not\n",
    "# -> True, no need to create them, it was already there\n",
    "# -> False, they were created now\n",
    "dirs_existed = make_dirs(dirs)\n",
    "dirs_existed"
   ]
  },
  {
   "cell_type": "markdown",
   "id": "a6d71dff",
   "metadata": {},
   "source": [
    "- `check_dirs_existance`"
   ]
  },
  {
   "cell_type": "code",
   "execution_count": 3,
   "id": "2888c854",
   "metadata": {},
   "outputs": [
    {
     "name": "stdout",
     "output_type": "stream",
     "text": [
      "\u001b[0m________________________________________________________________\u001b[0m\n",
      "\u001b[0m             Check dirs existance with raise error              \n",
      "\u001b[0m\n",
      "\"Some paths were not found: ['./config', './outputs']\"\n",
      "\u001b[0m________________________________________________________________\u001b[0m\n",
      "\u001b[0m            Check dirs existance without raise error            \n",
      "\u001b[0m\n",
      "['./config', './outputs']\n"
     ]
    }
   ],
   "source": [
    "from maikol_utils.file_utils import check_dirs_existance\n",
    "from maikol_utils.print_utils import print_separator\n",
    "\n",
    "dirs = [\"./data\", \"./config\", \"./logs\", \"./outputs\"]\n",
    "\n",
    "# ==========================================================================================\n",
    "print_separator(\"Check dirs existance with raise error\")\n",
    "# Raises KeyError if any path is missing\n",
    "try:\n",
    "    check_dirs_existance(dirs)\n",
    "except KeyError as e:\n",
    "    print(e)  # e.g. \"Some paths were not found: ['./config', './logs']\"\n",
    "\n",
    "\n",
    "# ==========================================================================================\n",
    "print_separator(\"Check dirs existance without raise error\")\n",
    "missing_dirs = check_dirs_existance(dirs, raise_error=False)\n",
    "print(missing_dirs)  \n"
   ]
  },
  {
   "cell_type": "markdown",
   "id": "6a76d202",
   "metadata": {},
   "source": [
    "- `save_json` & `load_json`"
   ]
  },
  {
   "cell_type": "code",
   "execution_count": 4,
   "id": "25121b8b",
   "metadata": {},
   "outputs": [
    {
     "name": "stdout",
     "output_type": "stream",
     "text": [
      "Saving output at outputs/users.json...\n",
      "Loading output from outputs/users.json...\n",
      "{'users': ['alice', 'bob'], 'count': 2}\n"
     ]
    }
   ],
   "source": [
    "from maikol_utils.file_utils import save_json, load_json\n",
    "\n",
    "data = {\"users\": [\"alice\", \"bob\"], \"count\": 2}\n",
    "# Saves to outputs/users.json, creating the folder if needed\n",
    "save_json(\"outputs/users.json\", data)\n",
    "\n",
    "# Attempt to load; if not found, returns {}\n",
    "settings = load_json(\"outputs/users.json\")\n",
    "print(settings)  # {\"users\": [\"alice\", \"bob\"], \"count\": 2}"
   ]
  },
  {
   "cell_type": "markdown",
   "id": "e7c47c4e",
   "metadata": {},
   "source": [
    "- `clear_directories`"
   ]
  },
  {
   "cell_type": "code",
   "execution_count": 5,
   "id": "a02a08bb",
   "metadata": {},
   "outputs": [
    {
     "name": "stdout",
     "output_type": "stream",
     "text": [
      "\u001b[0m________________________________________________________________\u001b[0m\n",
      "Cleared ./data\n",
      "\u001b[0m________________________________________________________________\u001b[0m\n",
      "Cleared ./data\n",
      "\u001b[0;33m⚠️'./config' not found or not a dir⚠️\u001b[0m\n",
      "Cleared ./logs\n",
      "Cleared ./outputs\n",
      "\u001b[0m________________________________________________________________\u001b[0m\n",
      "Removed ./data\n",
      "\u001b[0;33m⚠️'./config' not found or not a dir⚠️\u001b[0m\n",
      "Removed ./logs\n",
      "Removed ./outputs\n"
     ]
    }
   ],
   "source": [
    "from maikol_utils.file_utils import clear_directories\n",
    "from maikol_utils.print_utils import print_separator\n",
    "\n",
    "dirs = [\"./data\", \"./config\", \"./logs\", \"./outputs\"]\n",
    "print_separator()\n",
    "clear_directories(dirs[0], remove_folder=False)\n",
    "\n",
    "print_separator()\n",
    "clear_directories(dirs, remove_folder=False)\n",
    "\n",
    "print_separator()\n",
    "clear_directories(dirs, remove_folder=True)\n",
    "\n"
   ]
  },
  {
   "cell_type": "markdown",
   "id": "ac6d3bbe",
   "metadata": {},
   "source": [
    "- `list_dir_files`"
   ]
  },
  {
   "cell_type": "code",
   "execution_count": 6,
   "id": "1066a3b7",
   "metadata": {},
   "outputs": [
    {
     "name": "stdout",
     "output_type": "stream",
     "text": [
      "\u001b[0m________________________________________________________________________________________________________________________________\u001b[0m\n",
      "\u001b[0m                                                           Basic call                                                           \n",
      "\u001b[0m\n",
      "n_files = 6\n",
      "dir_list = ['./tests/test.py', './tests/x_1.txt', './tests/x_2.txt', './tests/x_10.txt', './tests/x_20.txt', './tests/x_21.txt']\n",
      "\u001b[0m________________________________________________________________________________________________________________________________\u001b[0m\n",
      "\u001b[0m                                                      Max number of files                                                       \n",
      "\u001b[0m\n",
      "n_files = 5\n",
      "dir_list = ['./tests/test.py', './tests/x_1.txt', './tests/x_2.txt', './tests/x_10.txt', './tests/x_20.txt']\n",
      "\u001b[0m________________________________________________________________________________________________________________________________\u001b[0m\n",
      "\u001b[0m                                                   Non existing path -> Error                                                   \n",
      "\u001b[0m\n",
      "\u001b[0;31m❌NO SUCH DIRECTORY: './AAAAAAAAAAAAAAAAAAAAAAAAAAAAAAAAAAAAAA'❌\u001b[0m\n",
      "([], 0)\n",
      "\u001b[0m________________________________________________________________________________________________________________________________\u001b[0m\n",
      "\u001b[0m                                               Natural sorting and python sorting                                               \n",
      "\u001b[0m\n",
      "['./tests/test.py', './tests/x_1.txt', './tests/x_2.txt', './tests/x_10.txt', './tests/x_20.txt', './tests/x_21.txt']\n",
      "['./tests/test.py', './tests/x_1.txt', './tests/x_10.txt', './tests/x_2.txt', './tests/x_20.txt', './tests/x_21.txt']\n",
      "\u001b[0m________________________________________________________________________________________________________________________________\u001b[0m\n",
      "\u001b[0m                                              Recursivelly get files in subfolders                                              \n",
      "\u001b[0m\n",
      "['./tests/more-test/y_1.txt', './tests/more-test/y_2.txt', './tests/more-test/y_10.txt', './tests/more-test/y_20.txt', './tests/more-test/y_21.txt', './tests/test.py', './tests/x_1.txt']\n",
      "\u001b[0m________________________________________________________________________________________________________________________________\u001b[0m\n",
      "\u001b[0m                                        Remove the absolute path from the returned files                                        \n",
      "\u001b[0m\n",
      "['more-test/y_1.txt', 'more-test/y_2.txt', 'more-test/y_10.txt', 'more-test/y_20.txt', 'more-test/y_21.txt', 'test.py', 'x_1.txt']\n"
     ]
    }
   ],
   "source": [
    "from maikol_utils.file_utils import list_dir_files\n",
    "from maikol_utils.print_utils import print_separator\n",
    "\n",
    "print_separator(\"Basic call\", sep_type=\"LONG\")\n",
    "dir_list, n_files = list_dir_files(\"./tests\")\n",
    "print(f\"{n_files = }\")\n",
    "print(f\"{dir_list = }\")\n",
    "\n",
    "print_separator(\"Max number of files\", sep_type=\"LONG\")\n",
    "dir_list, n_files = list_dir_files(\"./tests\", max_files=5)\n",
    "print(f\"{n_files = }\")\n",
    "print(f\"{dir_list = }\")\n",
    "\n",
    "print_separator(\"Non existing path -> Error\", sep_type=\"LONG\")\n",
    "print(list_dir_files(\"./AAAAAAAAAAAAAAAAAAAAAAAAAAAAAAAAAAAAAA\"))\n",
    "\n",
    "print_separator(\"Natural sorting and python sorting\", sep_type=\"LONG\")\n",
    "print(list_dir_files(\"./tests\")[0])\n",
    "print(list_dir_files(\"./tests\", nat_sorting=False)[0])\n",
    "\n",
    "print_separator(\"Recursivelly get files in subfolders\", sep_type=\"LONG\")\n",
    "print(list_dir_files(\"./tests\", recursive=True, max_files=7)[0])\n",
    "\n",
    "print_separator(\"Remove the absolute path from the returned files\", sep_type=\"LONG\")\n",
    "print(list_dir_files(\"./tests\", recursive=True, max_files=7, absolute_path=False)[0])"
   ]
  },
  {
   "cell_type": "markdown",
   "id": "321bcec6",
   "metadata": {},
   "source": [
    "Look at the 'Natural sorting and python sorting'. The order is 'natural', from prioritizing 1 over 10, 10 over 2 -> 1 over 2, and 2 over 10."
   ]
  },
  {
   "cell_type": "markdown",
   "id": "0e87a00d",
   "metadata": {},
   "source": [
    "- manage_temp_files"
   ]
  },
  {
   "cell_type": "code",
   "execution_count": 7,
   "id": "8c4a9255",
   "metadata": {},
   "outputs": [
    {
     "name": "stdout",
     "output_type": "stream",
     "text": [
      "\u001b[0m________________________________________________________________\u001b[0m\n",
      "\u001b[0m                   Simulating process starts                    \n",
      "\u001b[0m\n",
      " - Executing 'long_task_llm' for '0'...\n",
      " - Executing 'long_task_llm' for '1'...\n",
      " - Executing 'long_task_llm' for '2'...\n",
      "\u001b[0m________________________________________________________________\u001b[0m                                                        \n",
      "\u001b[0m                    Simulating process stop                     \n",
      "\u001b[0m\n",
      " - Skiping '0': Temp file found at './temp/0.json'\n",
      " - Skiping '1': Temp file found at './temp/1.json'\n",
      " - Skiping '2': Temp file found at './temp/2.json'\n",
      " - Executing 'long_task_llm' for '3'...\n",
      " - Executing 'long_task_llm' for '4'...\n",
      " - Executing 'long_task_llm' for '5'...\n",
      "\u001b[0m________________________________________________________________\u001b[0m                                                        \n",
      "\u001b[0m                             DONE!                              \n",
      "\u001b[0m\n",
      "Removed temp/\n"
     ]
    }
   ],
   "source": [
    "import time\n",
    "from typing import Any\n",
    "from maikol_utils.file_utils import manage_temp_files, clear_directories\n",
    "from maikol_utils.print_utils import print_separator, clear_status\n",
    "\n",
    "def long_task_llm(ia_model: Any, page: str, extra: int = None):\n",
    "    time.sleep(1)\n",
    "    res = page.split()\n",
    "    return res, f\"ia_model: {ia_model}, res: {res}{f'-{extra}' if extra is not None else ''}\"\n",
    "\n",
    "ia_model = \"IA\"\n",
    "pages = [\n",
    "    f\"{i}? \"*i for i in range(10)\n",
    "]\n",
    "\n",
    "print_separator(\"Simulating process starts\")\n",
    "for i in range(3):\n",
    "    manage_temp_files(\n",
    "        i,                     # call_key\n",
    "        \"./temp\",              # temp_folder_path\n",
    "        long_task_llm,         # function\n",
    "        True,                  # manage_temp_files _verbose\n",
    "        True,                  # keep_logs\n",
    "        ia_model,              # *args -> function arg 1\n",
    "        pages[i],              # *args -> function arg 2\n",
    "        extra=10,              # **kwargs -> function keyword arg\n",
    "    )\n",
    "\n",
    "clear_status()\n",
    "print_separator(\"Simulating process stop\")\n",
    "\n",
    "for i in range(6):\n",
    "    out1, out2 = manage_temp_files(\n",
    "        i,                     # call_key\n",
    "        \"./temp\",              # temp_folder_path\n",
    "        long_task_llm,         # function\n",
    "        True,                  # manage_temp_files _verbose\n",
    "        True,                  # keep_logs\n",
    "        ia_model,              # *args -> function arg 1\n",
    "        pages[i],              # *args -> function arg 2\n",
    "        extra=10,              # **kwargs -> function keyword arg\n",
    "    )\n",
    "\n",
    "clear_status()\n",
    "print_separator(\"DONE!\")\n",
    "clear_directories([\"temp/\"], remove_folder=True)\n"
   ]
  },
  {
   "cell_type": "markdown",
   "id": "5350a200",
   "metadata": {},
   "source": [
    "### Printing"
   ]
  },
  {
   "cell_type": "markdown",
   "id": "32d53e89",
   "metadata": {},
   "source": [
    "- `print_separator`"
   ]
  },
  {
   "cell_type": "code",
   "execution_count": 8,
   "id": "41e30203",
   "metadata": {},
   "outputs": [
    {
     "name": "stdout",
     "output_type": "stream",
     "text": [
      "\u001b[0m________________________________________________________________\u001b[0m\n",
      "\u001b[0m________________________________________________________________\u001b[0m\n",
      "\u001b[0m                                                                \n",
      "\u001b[0m\n",
      "\u001b[0;34m================================================================================================================================\n",
      "\u001b[0m\n",
      "\u001b[0;34m                                                         START PROCESS                                                          \n",
      "\u001b[0m\n",
      "\u001b[0;34m================================================================================================================================\n",
      "\u001b[0m\n",
      "\u001b[0m================================================================================================================================\u001b[0m\n",
      "\u001b[0m                                                         FINAL RESULTS                                                          \u001b[0m\n",
      "\u001b[0m================================================================================================================================\n",
      "\u001b[0m\n",
      "\u001b[0m________________________________\u001b[0m\n",
      "\u001b[0m         STEP COMPLETE          \n",
      "\u001b[0m\n",
      "\u001b[0;31m________________________________________________________________\u001b[0m\n",
      "\u001b[0;31m                            RED LINE                            \n",
      "\u001b[0m\n",
      "\u001b[0;32m________________________________________________________________\u001b[0m\n",
      "\u001b[0;32m                           GREEN LINE                           \n",
      "\u001b[0m\n",
      "\u001b[0;34m________________________________________________________________\u001b[0m\n",
      "\u001b[0;34m                            BLUE LINE                           \n",
      "\u001b[0m\n",
      "\u001b[0;33m________________________________________________________________\u001b[0m\n",
      "\u001b[0;33m                           YELLOW LINE                          \n",
      "\u001b[0m\n"
     ]
    }
   ],
   "source": [
    "from maikol_utils.print_utils import print_separator\n",
    "\n",
    "print_separator()\n",
    "print_separator(\" \") # creates a separation line after the live\n",
    "\n",
    "print_separator(\"START PROCESS\", sep_type=\"START\")\n",
    "print_separator(\"FINAL RESULTS\", sep_type=\"SUPER\")\n",
    "print_separator(\"STEP COMPLETE\", sep_type=\"SHORT\")\n",
    "\n",
    "\n",
    "print_separator(\" RED LINE\", color=\"red\")\n",
    "print_separator(\" GREEN LINE\", color=\"green\")\n",
    "print_separator(\" BLUE LINE\", color=\"blue\")\n",
    "print_separator(\" YELLOW LINE\", color=\"yellow\")\n"
   ]
  },
  {
   "cell_type": "markdown",
   "id": "df5b1bc2",
   "metadata": {},
   "source": [
    "- `print_color` & `print_warn`"
   ]
  },
  {
   "cell_type": "code",
   "execution_count": 9,
   "id": "02632bbf",
   "metadata": {},
   "outputs": [
    {
     "name": "stdout",
     "output_type": "stream",
     "text": [
      "\u001b[0;32mAll systems go\u001b[0m\n",
      "\u001b[0;31mUnexpected value\u001b[0m\n",
      "\u001b[0;33m⚠️Missing config file!⚠️\u001b[0m\n",
      "\u001b[0;31m❌No model found!❌\u001b[0m\n",
      "\u001b[0m________________________________________________________________\u001b[0m\n",
      "\u001b[0m                                                                \n",
      "\u001b[0m\n",
      "\u001b[0;30mThis is black color\u001b[0m\n",
      "\u001b[0;31mThis is red color\u001b[0m\n",
      "\u001b[0;32mThis is green color\u001b[0m\n",
      "\u001b[0;33mThis is yellow color\u001b[0m\n",
      "\u001b[0;34mThis is blue color\u001b[0m\n",
      "\u001b[0;35mThis is purple color\u001b[0m\n",
      "\u001b[0;36mThis is cyan color\u001b[0m\n",
      "\u001b[0;37mThis is white color\u001b[0m\n",
      "\u001b[0mThis is reset color\u001b[0m\n",
      "\u001b[3mThis is italic color\u001b[0m\n",
      "\u001b[1;3mThis is bold_italic color\u001b[0m\n",
      "\u001b[4mThis is underline color\u001b[0m\n",
      "\u001b[9mThis is strikethrough color\u001b[0m\n",
      "\u001b[1;30mThis is bold_black color\u001b[0m\n",
      "\u001b[1;31mThis is bold_red color\u001b[0m\n",
      "\u001b[1;32mThis is bold_green color\u001b[0m\n",
      "\u001b[1;33mThis is bold_yellow color\u001b[0m\n",
      "\u001b[1;34mThis is bold_blue color\u001b[0m\n",
      "\u001b[1;35mThis is bold_purple color\u001b[0m\n",
      "\u001b[1;36mThis is bold_cyan color\u001b[0m\n",
      "\u001b[1;37mThis is bold_white color\u001b[0m\n",
      "\u001b[4;30mThis is underline_black color\u001b[0m\n",
      "\u001b[4;31mThis is underline_red color\u001b[0m\n",
      "\u001b[4;32mThis is underline_green color\u001b[0m\n",
      "\u001b[4;33mThis is underline_yellow color\u001b[0m\n",
      "\u001b[4;34mThis is underline_blue color\u001b[0m\n",
      "\u001b[4;35mThis is underline_purple color\u001b[0m\n",
      "\u001b[4;36mThis is underline_cyan color\u001b[0m\n",
      "\u001b[4;37mThis is underline_white color\u001b[0m\n",
      "\u001b[40mThis is bg_black color\u001b[0m\n",
      "\u001b[41mThis is bg_red color\u001b[0m\n",
      "\u001b[42mThis is bg_green color\u001b[0m\n",
      "\u001b[43mThis is bg_yellow color\u001b[0m\n",
      "\u001b[44mThis is bg_blue color\u001b[0m\n",
      "\u001b[45mThis is bg_purple color\u001b[0m\n",
      "\u001b[46mThis is bg_cyan color\u001b[0m\n",
      "\u001b[47mThis is bg_white color\u001b[0m\n",
      "\u001b[0;90mThis is hi_black color\u001b[0m\n",
      "\u001b[0;91mThis is hi_red color\u001b[0m\n",
      "\u001b[0;92mThis is hi_green color\u001b[0m\n",
      "\u001b[0;93mThis is hi_yellow color\u001b[0m\n",
      "\u001b[0;94mThis is hi_blue color\u001b[0m\n",
      "\u001b[0;95mThis is hi_purple color\u001b[0m\n",
      "\u001b[0;96mThis is hi_cyan color\u001b[0m\n",
      "\u001b[0;97mThis is hi_white color\u001b[0m\n",
      "\u001b[1;90mThis is bold_hi_black color\u001b[0m\n",
      "\u001b[1;91mThis is bold_hi_red color\u001b[0m\n",
      "\u001b[1;92mThis is bold_hi_green color\u001b[0m\n",
      "\u001b[1;93mThis is bold_hi_yellow color\u001b[0m\n",
      "\u001b[1;94mThis is bold_hi_blue color\u001b[0m\n",
      "\u001b[1;95mThis is bold_hi_purple color\u001b[0m\n",
      "\u001b[1;96mThis is bold_hi_cyan color\u001b[0m\n",
      "\u001b[1;97mThis is bold_hi_white color\u001b[0m\n",
      "\u001b[0;100mThis is bg_hi_black color\u001b[0m\n",
      "\u001b[0;101mThis is bg_hi_red color\u001b[0m\n",
      "\u001b[0;102mThis is bg_hi_green color\u001b[0m\n",
      "\u001b[0;103mThis is bg_hi_yellow color\u001b[0m\n",
      "\u001b[0;104mThis is bg_hi_blue color\u001b[0m\n",
      "\u001b[0;105mThis is bg_hi_purple color\u001b[0m\n",
      "\u001b[0;106mThis is bg_hi_cyan color\u001b[0m\n",
      "\u001b[0;107mThis is bg_hi_white color\u001b[0m\n"
     ]
    }
   ],
   "source": [
    "from maikol_utils.print_utils import print_color, print_warn, print_error, _colors, print_separator\n",
    "\n",
    "print_color(\"All systems go\", color=\"green\")\n",
    "print_color(\"Unexpected value\", color=\"red\")\n",
    "\n",
    "# Prints ⚠️Missing config file!⚠️ in yellow\n",
    "print_warn(\"Missing config file!\")\n",
    "\n",
    "# Prints ❌Missing config file!❌ in yellow\n",
    "text = print_error(\"No model found!\")\n",
    "\n",
    "print_separator(\" \") \n",
    "for color in _colors.keys():\n",
    "    print_color(f\"This is {color} color\", color=color)"
   ]
  },
  {
   "cell_type": "markdown",
   "id": "edc0ab1a",
   "metadata": {},
   "source": [
    "- `print_status`\n",
    "    - this wont work here :)\n",
    "    - Look at the '>>>' examples"
   ]
  },
  {
   "cell_type": "code",
   "execution_count": 10,
   "id": "b23c4f02",
   "metadata": {},
   "outputs": [
    {
     "name": "stdout",
     "output_type": "stream",
     "text": [
      "Processing document...\n",
      "DONE!ocessing page 3/3...                                                                                                                                                                                                                                                                                                                                                                                                                                                                                                       \n"
     ]
    },
    {
     "data": {
      "text/plain": [
       "'\\n>>> print(\"Processing document...\")\\n>>> Processing document...\\n\\n>>> print_status(f\" - Processing page {i}/{n_files}...\")\\n>>> Processing document...\\n>>>  - Processing page 1/3\\n\\n>>> print_status(f\" - Processing page {i}/{n_files}...\")\\n>>> Processing document...\\n>>>  - Processing page 2/3\\n\\n>>> print_status(f\" - Processing page {i}/{n_files}...\")\\n>>> Processing document...\\n>>>  - Processing page 3/3\\n\\n>>> clear_status()\\n>>> print(\"DONE!\")\\n>>> Processing document...\\n>>> DONE!\\n'"
      ]
     },
     "execution_count": 10,
     "metadata": {},
     "output_type": "execute_result"
    }
   ],
   "source": [
    "import time\n",
    "from maikol_utils.print_utils import print_status, clear_status\n",
    "\n",
    "print(\"Processing document...\")\n",
    "\n",
    "\n",
    "n_files = 3\n",
    "for i in range(1, n_files+1):\n",
    "    print_status(f\" - Processing page {i}/{n_files}...\")\n",
    "    time.sleep(0.5)\n",
    "# At the end call clear_status() to clear the previous line\n",
    "clear_status()\n",
    "\n",
    "print(\"DONE!\")\n",
    "\n",
    "\n",
    "\"\"\"\n",
    ">>> print(\"Processing document...\")\n",
    ">>> Processing document...\n",
    "\n",
    ">>> print_status(f\" - Processing page {i}/{n_files}...\")\n",
    ">>> Processing document...\n",
    ">>>  - Processing page 1/3\n",
    "\n",
    ">>> print_status(f\" - Processing page {i}/{n_files}...\")\n",
    ">>> Processing document...\n",
    ">>>  - Processing page 2/3\n",
    "\n",
    ">>> print_status(f\" - Processing page {i}/{n_files}...\")\n",
    ">>> Processing document...\n",
    ">>>  - Processing page 3/3\n",
    "\n",
    ">>> clear_status()\n",
    ">>> print(\"DONE!\")\n",
    ">>> Processing document...\n",
    ">>> DONE!\n",
    "\"\"\""
   ]
  },
  {
   "cell_type": "markdown",
   "id": "63a9b927",
   "metadata": {},
   "source": [
    "- `clear_bash` & `print_clear_bash`\n",
    "    - this wont work here :)\n",
    "    - Look at the '>>>' examples"
   ]
  },
  {
   "cell_type": "code",
   "execution_count": 11,
   "id": "a21b1059",
   "metadata": {},
   "outputs": [
    {
     "name": "stdout",
     "output_type": "stream",
     "text": [
      "Line A\n",
      "Line B\n",
      "\u001b[F\u001b[K\u001b[F\u001b[KClean slate!\n",
      "Loading data...\n",
      "\u001b[F\u001b[K✔️ Data loaded successfully!\n"
     ]
    },
    {
     "data": {
      "text/plain": [
       "'\\n\\n>>> print(\"Line A\")\\n>>> Line A\\n\\n>>> print(\"Line B\")\\n>>> Line A\\n>>> Line B\\n\\n>>> clear_bash(2) \\n>>> \\n\\n>>> print(\"Clean slate!\")\\n>>> Clean state!\\n\\n>>> print(\"Loading data...\")\\n>>> Clean state!\\n>>> Loading data...\\n\\n>>> print_clear_bash(\"✔️ Data loaded successfully!\", n_lines=1)\\n>>> Clean state!\\n>>> ✔️ Data loaded successfully!\\n'"
      ]
     },
     "execution_count": 11,
     "metadata": {},
     "output_type": "execute_result"
    }
   ],
   "source": [
    "import time\n",
    "from maikol_utils.print_utils import clear_bash, print_clear_bash\n",
    "\n",
    "\n",
    "print(\"Line A\")\n",
    "time.sleep(1)\n",
    "print(\"Line B\")\n",
    "time.sleep(1)\n",
    "clear_bash(2)   # removes both lines from the terminal\n",
    "print(\"Clean slate!\")\n",
    "\n",
    "\n",
    "print(\"Loading data...\")\n",
    "time.sleep(1)\n",
    "print_clear_bash(\"✔️ Data loaded successfully!\", n_lines=1)\n",
    "\n",
    "\"\"\"\n",
    "\n",
    ">>> print(\"Line A\")\n",
    ">>> Line A\n",
    "\n",
    ">>> print(\"Line B\")\n",
    ">>> Line A\n",
    ">>> Line B\n",
    "\n",
    ">>> clear_bash(2) \n",
    ">>> \n",
    "\n",
    ">>> print(\"Clean slate!\")\n",
    ">>> Clean state!\n",
    "\n",
    ">>> print(\"Loading data...\")\n",
    ">>> Clean state!\n",
    ">>> Loading data...\n",
    "\n",
    ">>> print_clear_bash(\"✔️ Data loaded successfully!\", n_lines=1)\n",
    ">>> Clean state!\n",
    ">>> ✔️ Data loaded successfully!\n",
    "\"\"\"\n"
   ]
  },
  {
   "cell_type": "markdown",
   "id": "b450f735",
   "metadata": {},
   "source": [
    "- `print_utf_8`"
   ]
  },
  {
   "cell_type": "code",
   "execution_count": 12,
   "id": "7338dd99",
   "metadata": {},
   "outputs": [
    {
     "name": "stdout",
     "output_type": "stream",
     "text": [
      "\u001b[0m________________________________________________________________\u001b[0m\n",
      "\u001b[0m                           No format                            \n",
      "\u001b[0m\n",
      "L\\u00f3pez\\nL\\u00ednea 2\n",
      "\u001b[0m________________________________________________________________\u001b[0m\n",
      "\u001b[0m                             Format                             \n",
      "\u001b[0m\n",
      "López\n",
      "Línea 2\n",
      "\u001b[0m________________________________________________________________\u001b[0m\n"
     ]
    }
   ],
   "source": [
    "from maikol_utils.print_utils import print_utf_8, print_separator\n",
    "\n",
    "\n",
    "badly_formed_text = \"L\\\\u00f3pez\\\\nL\\\\u00ednea 2\"\n",
    "\n",
    "print_separator(\"No format\")\n",
    "print(badly_formed_text)\n",
    "\n",
    "print_separator(\"Format\")\n",
    "\n",
    "print_utf_8(badly_formed_text)\n",
    "\n",
    "print_separator(\"\")"
   ]
  },
  {
   "cell_type": "markdown",
   "id": "c44a7b82",
   "metadata": {},
   "source": [
    "### With logger"
   ]
  },
  {
   "cell_type": "markdown",
   "id": "c35d57ff",
   "metadata": {},
   "source": [
    "- Configuration"
   ]
  },
  {
   "cell_type": "code",
   "execution_count": 13,
   "id": "1c91cc84",
   "metadata": {},
   "outputs": [],
   "source": [
    "from dataclasses import dataclass\n",
    "# ======================================================================================================               \n",
    "#                                              CONFIGURATION\n",
    "# ======================================================================================================\n",
    "@dataclass\n",
    "class Configuration:\n",
    "    logs_folder:           str = r\"logs\"\n",
    "    logs_path_file: str = fr\"{logs_folder}/app.log\"\n",
    "\n",
    "CONFIG = Configuration()"
   ]
  },
  {
   "cell_type": "markdown",
   "id": "c834ebdd",
   "metadata": {},
   "source": [
    "- Loger"
   ]
  },
  {
   "cell_type": "code",
   "execution_count": 14,
   "id": "1cf23bfc",
   "metadata": {},
   "outputs": [],
   "source": [
    "import os\n",
    "import logging\n",
    "\n",
    "\n",
    "from logging.handlers import TimedRotatingFileHandler\n",
    "\n",
    "# ======================================================================================================               \n",
    "#                                              LOGGER FOR PRINT\n",
    "# ======================================================================================================\n",
    "class ColorFormatter(logging.Formatter):\n",
    "    COLORS = {\n",
    "        logging.DEBUG:    \"\\033[32m\",  # green\n",
    "        logging.INFO:     \"\\033[34m\",  # blue\n",
    "        logging.WARNING:  \"\\033[33m\",  # yellow-orange\n",
    "        logging.ERROR:    \"\\033[31m\",  # red\n",
    "        logging.CRITICAL: \"\\033[1;31m\" # bright red\n",
    "    }\n",
    "    RESET = \"\\033[0m\"\n",
    "\n",
    "    def format(self, record):\n",
    "        color = self.COLORS.get(record.levelno, \"\")\n",
    "        record.levelname = f\"{color}{record.levelname}{self.RESET}\"\n",
    "        return super().format(record)\n",
    "\n",
    "os.makedirs(CONFIG.logs_folder, exist_ok=True)\n",
    "file_handler = TimedRotatingFileHandler(\n",
    "    CONFIG.logs_path_file, when=\"midnight\", interval=1, backupCount=7, encoding=\"utf-8\"\n",
    ")\n",
    "file_handler.setFormatter(logging.Formatter(\n",
    "    \"%(asctime)s | %(levelname)s: %(message)s\", \"%Y-%m-%d %H:%M\"\n",
    "))\n",
    "\n",
    "# Create shared handler with your formatter\n",
    "handler = logging.StreamHandler()\n",
    "handler.setFormatter(ColorFormatter(\n",
    "    \"%(asctime)s | %(levelname)s: %(message)s\", \"%Y-%m-%d %H:%M\"\n",
    "))\n",
    "\n",
    "# Apply to your logger\n",
    "logger = logging.getLogger(__name__)\n",
    "logger.handlers.clear()\n",
    "logger.propagate = False\n",
    "logger.setLevel(logging.INFO)\n",
    "logger.addHandler(handler)\n",
    "logger.addHandler(file_handler)\n",
    "\n",
    "# Also apply to FastAPI and Uvicorn loggers\n",
    "for name in [\"uvicorn\", \"uvicorn.access\", \"uvicorn.error\"]:\n",
    "    log = logging.getLogger(name)\n",
    "    log.handlers.clear()\n",
    "    log.propagate = False\n",
    "    log.setLevel(logging.INFO)\n",
    "    log.addHandler(handler)"
   ]
  },
  {
   "cell_type": "markdown",
   "id": "32791840",
   "metadata": {},
   "source": [
    "- Example"
   ]
  },
  {
   "cell_type": "code",
   "execution_count": 15,
   "id": "ec6d214a",
   "metadata": {},
   "outputs": [],
   "source": [
    "from maikol_utils.config import set_logger\n",
    "set_logger(logger)  \n"
   ]
  },
  {
   "cell_type": "code",
   "execution_count": 16,
   "id": "16c65520",
   "metadata": {},
   "outputs": [
    {
     "name": "stderr",
     "output_type": "stream",
     "text": [
      "2025-10-08 09:40 | \u001b[34mINFO\u001b[0m: Line A\n",
      "2025-10-08 09:40 | \u001b[34mINFO\u001b[0m: Line B\n",
      "2025-10-08 09:40 | \u001b[34mINFO\u001b[0m: \u001b[F\u001b[K\u001b[F\u001b[K\n",
      "2025-10-08 09:40 | \u001b[34mINFO\u001b[0m: Clean slate!\n",
      "2025-10-08 09:40 | \u001b[34mINFO\u001b[0m: Loading data...\n",
      "2025-10-08 09:40 | \u001b[34mINFO\u001b[0m: \u001b[F\u001b[K\n",
      "2025-10-08 09:40 | \u001b[34mINFO\u001b[0m: ✔️ Data loaded successfully!\n"
     ]
    },
    {
     "data": {
      "text/plain": [
       "'\\n\\n>>> print(\"Line A\")\\n>>> 2025-07-21 09:53 | INFO: Line A\\n\\n>>> print(\"Line B\")\\n>>> 2025-07-21 09:53 | INFO: Line A\\n>>> 2025-07-21 09:53 | INFO: Line B\\n\\n>>> clear_bash(2) \\n>>> \\n\\n>>> print(\"Clean slate!\")\\n>>> 2025-07-21 09:53 | INFO: Clean state!\\n\\n>>> print(\"Loading data...\")\\n>>> 2025-07-21 09:53 | INFO: Clean state!\\n>>> 2025-07-21 09:53 | INFO: Loading data...\\n\\n>>> print_clear_bash(\"✔️ Data loaded successfully!\", n_lines=1)\\n>>> 2025-07-21 09:53 | INFO: Clean state!\\n>>> 2025-07-21 09:53 | INFO: ✔️ Data loaded successfully!\\n'"
      ]
     },
     "execution_count": 16,
     "metadata": {},
     "output_type": "execute_result"
    }
   ],
   "source": [
    "import time\n",
    "from maikol_utils.print_utils import clear_bash, print_clear_bash, print_log\n",
    "\n",
    "print_log(\"Line A\")\n",
    "time.sleep(1)\n",
    "print_log(\"Line B\")\n",
    "time.sleep(1)\n",
    "clear_bash(2)   # removes both lines from the terminal\n",
    "print_log(\"Clean slate!\")\n",
    "\n",
    "\n",
    "print_log(\"Loading data...\")\n",
    "time.sleep(1)\n",
    "print_clear_bash(\"✔️ Data loaded successfully!\", n_lines=1)\n",
    "\n",
    "\"\"\"\n",
    "\n",
    ">>> print(\"Line A\")\n",
    ">>> 2025-07-21 09:53 | INFO: Line A\n",
    "\n",
    ">>> print(\"Line B\")\n",
    ">>> 2025-07-21 09:53 | INFO: Line A\n",
    ">>> 2025-07-21 09:53 | INFO: Line B\n",
    "\n",
    ">>> clear_bash(2) \n",
    ">>> \n",
    "\n",
    ">>> print(\"Clean slate!\")\n",
    ">>> 2025-07-21 09:53 | INFO: Clean state!\n",
    "\n",
    ">>> print(\"Loading data...\")\n",
    ">>> 2025-07-21 09:53 | INFO: Clean state!\n",
    ">>> 2025-07-21 09:53 | INFO: Loading data...\n",
    "\n",
    ">>> print_clear_bash(\"✔️ Data loaded successfully!\", n_lines=1)\n",
    ">>> 2025-07-21 09:53 | INFO: Clean state!\n",
    ">>> 2025-07-21 09:53 | INFO: ✔️ Data loaded successfully!\n",
    "\"\"\"\n"
   ]
  },
  {
   "cell_type": "markdown",
   "id": "b8b570c9",
   "metadata": {},
   "source": [
    "- reset logger"
   ]
  },
  {
   "cell_type": "code",
   "execution_count": 17,
   "id": "9b949d2d",
   "metadata": {},
   "outputs": [],
   "source": [
    "from maikol_utils.config import set_logger\n",
    "set_logger(None)  "
   ]
  },
  {
   "cell_type": "markdown",
   "id": "81a1fd43",
   "metadata": {},
   "source": [
    "# Other utils"
   ]
  },
  {
   "cell_type": "markdown",
   "id": "58c4e065",
   "metadata": {},
   "source": [
    "- Instantiate dataclass from arguments"
   ]
  },
  {
   "cell_type": "code",
   "execution_count": 19,
   "id": "d98d159a",
   "metadata": {},
   "outputs": [],
   "source": [
    "import os\n",
    "import argparse\n",
    "from dataclasses import dataclass\n",
    "from maikol_utils.other_utils import args_to_dataclass\n",
    "from maikol_utils.file_utils import make_dirs\n",
    "\n",
    "@dataclass\n",
    "class Configuration:\n",
    "    logs_folder: str = \"logs\"\n",
    "    logs_path_file: str = \"logs/app.log\"\n",
    "    model_name: str = \"default_model\"\n",
    "    learning_rate: float = 0.001\n",
    "\n",
    "    def __post_init__(self):\n",
    "        # Ensure logs folder exists\n",
    "        self.logs_path_file = os.path.join(self.logs_folder, \"app.log\")\n",
    "        make_dirs(self.logs_folder)"
   ]
  },
  {
   "cell_type": "markdown",
   "id": "266aa39a",
   "metadata": {},
   "source": [
    "```python\n",
    "# =================================================\n",
    "#                   EXAMPLE USAGE\n",
    "# =================================================\n",
    "if __name__ == \"__main__\":\n",
    "    parser = argparse.ArgumentParser()\n",
    "\n",
    "    # Optional arguments (only these provided will override defaults)\n",
    "    parser.add_argument(\"--logs_folder\", type=str)\n",
    "    parser.add_argument(\"--model_name\", type=str)\n",
    "    parser.add_argument(\"--learning_rate\", type=float)\n",
    "    args = parser.parse_args()\n",
    "\n",
    "    # Convert parsed args → dataclass\n",
    "    CONFIG = args_to_dataclass(args, Configuration) # <- important line ==============================\n",
    "\n",
    "    print(CONFIG)\n",
    "```"
   ]
  },
  {
   "cell_type": "markdown",
   "id": "a45419cc",
   "metadata": {},
   "source": [
    "- From seconds to pretty print"
   ]
  },
  {
   "cell_type": "code",
   "execution_count": null,
   "id": "ca055f69",
   "metadata": {},
   "outputs": [
    {
     "name": "stdout",
     "output_type": "stream",
     "text": [
      "01 hrs, 01 mins, 01.0000 sec\n",
      "10.0000 sec\n",
      "01 mins, 01.0000 sec\n",
      "34 hrs, 11 mins, 34.2124 sec\n",
      "\u001b[0m________________________________________________________________\u001b[0m\n",
      "\u001b[0m                                                                \n",
      "\u001b[0m\n",
      "\u001b[0;32m25 hrs, 02 mins, 04.5124 sec\u001b[0m\n",
      "\u001b[0;104m02 mins, 03.2632 sec\u001b[0m\n",
      "\u001b[1;93m01 hrs, 25 mins, 12.2623 sec\u001b[0m\n"
     ]
    },
    {
     "data": {
      "text/plain": [
       "'\\x1b[1;93m01 hrs, 25 mins, 12.2623 sec\\x1b[0m'"
      ]
     },
     "execution_count": 20,
     "metadata": {},
     "output_type": "execute_result"
    }
   ],
   "source": [
    "from maikol_utils.other_utils import parse_seconds_to_minutes\n",
    "from maikol_utils.print_utils import print_log, print_color, print_separator\n",
    "\n",
    "\n",
    "print_log(parse_seconds_to_minutes(3661))  # \"1h 1m 1s\"\n",
    "print_log(parse_seconds_to_minutes(10))  # \"1h 1m 1s\"\n",
    "print_log(parse_seconds_to_minutes(61)) # \"1h 1m 1s\"\n",
    "print_log(parse_seconds_to_minutes(123094.2124)) # \"1h 1m 1s\"\n",
    "\n",
    "\n",
    "print_separator(\" \")\n",
    "\n",
    "print_color(parse_seconds_to_minutes(90124.5124), color=\"green\") \n",
    "print_color(parse_seconds_to_minutes(123.26324), color=\"bg_hi_blue\") \n",
    "print_color(parse_seconds_to_minutes(5112.2623643), color=\"bold_hi_yellow\") \n"
   ]
  }
 ],
 "metadata": {
  "kernelspec": {
   "display_name": "base_env",
   "language": "python",
   "name": "python3"
  },
  "language_info": {
   "codemirror_mode": {
    "name": "ipython",
    "version": 3
   },
   "file_extension": ".py",
   "mimetype": "text/x-python",
   "name": "python",
   "nbconvert_exporter": "python",
   "pygments_lexer": "ipython3",
   "version": "3.10.18"
  }
 },
 "nbformat": 4,
 "nbformat_minor": 5
}
