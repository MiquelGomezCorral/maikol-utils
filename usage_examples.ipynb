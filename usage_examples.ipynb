{
 "cells": [
  {
   "cell_type": "markdown",
   "id": "737616c8",
   "metadata": {},
   "source": [
    "# Hey, maikol here"
   ]
  },
  {
   "cell_type": "code",
   "execution_count": 1,
   "id": "021a9d36",
   "metadata": {},
   "outputs": [],
   "source": [
    "%load_ext autoreload\n",
    "%autoreload 2"
   ]
  },
  {
   "cell_type": "markdown",
   "id": "725d5b37",
   "metadata": {},
   "source": [
    "### File functions"
   ]
  },
  {
   "cell_type": "markdown",
   "id": "a6d71dff",
   "metadata": {},
   "source": [
    "`check_dirs_existance`"
   ]
  },
  {
   "cell_type": "code",
   "execution_count": 2,
   "id": "2888c854",
   "metadata": {},
   "outputs": [
    {
     "name": "stdout",
     "output_type": "stream",
     "text": [
      "\"Some paths were not found: ['./data', './config', './logs']\"\n"
     ]
    }
   ],
   "source": [
    "from maikol_utils import check_dirs_existance\n",
    "\n",
    "dirs = [\"./data\", \"./config\", \"./logs\"]\n",
    "# Raises KeyError if any path is missing\n",
    "try:\n",
    "    check_dirs_existance(dirs)\n",
    "except KeyError as e:\n",
    "    print(e)  # e.g. \"Some paths were not found: ['./config', './logs']\"\n"
   ]
  },
  {
   "cell_type": "markdown",
   "id": "7a6cba17",
   "metadata": {},
   "source": [
    "`make_dirs`"
   ]
  },
  {
   "cell_type": "code",
   "execution_count": null,
   "id": "4567fd99",
   "metadata": {},
   "outputs": [],
   "source": [
    "from maikol_utils import make_dirs\n",
    "\n",
    "dirs = [\"./data/input\", \"./data/output\"]\n",
    "# Safely creates all these directories if they don't exist\n",
    "make_dirs(dirs)"
   ]
  },
  {
   "cell_type": "markdown",
   "id": "6a76d202",
   "metadata": {},
   "source": [
    "`save_json` & `load_json`"
   ]
  },
  {
   "cell_type": "code",
   "execution_count": 5,
   "id": "25121b8b",
   "metadata": {},
   "outputs": [
    {
     "name": "stdout",
     "output_type": "stream",
     "text": [
      "Saving output at outputs/users.json...\n",
      "Loading output from outputs/users.json...\n",
      "{'users': ['alice', 'bob'], 'count': 2}\n"
     ]
    }
   ],
   "source": [
    "from maikol_utils import save_json, load_json\n",
    "\n",
    "data = {\"users\": [\"alice\", \"bob\"], \"count\": 2}\n",
    "# Saves to outputs/users.json, creating the folder if needed\n",
    "save_json(\"outputs/users.json\", data)\n",
    "\n",
    "# Attempt to load; if not found, returns {}\n",
    "settings = load_json(\"outputs/users.json\")\n",
    "print(settings)  # {\"users\": [\"alice\", \"bob\"], \"count\": 2}"
   ]
  },
  {
   "cell_type": "markdown",
   "id": "5350a200",
   "metadata": {},
   "source": [
    "### Printing"
   ]
  },
  {
   "cell_type": "markdown",
   "id": "32d53e89",
   "metadata": {},
   "source": [
    "`print_separator`"
   ]
  },
  {
   "cell_type": "code",
   "execution_count": 3,
   "id": "41e30203",
   "metadata": {},
   "outputs": [
    {
     "name": "stdout",
     "output_type": "stream",
     "text": [
      "\u001b[34m================================================================================================================================\n",
      "\u001b[0m\n",
      "\u001b[34m                                                         START PROCESS                                                          \n",
      "\u001b[0m\n",
      "\u001b[34m================================================================================================================================\n",
      "\u001b[0m\n",
      "________________________________\n",
      "         STEP COMPLETE          \n",
      "\n",
      "================================================================================================================================\n",
      "                                                         FINAL RESULTS                                                          \n",
      "================================================================================================================================\n",
      "\n"
     ]
    }
   ],
   "source": [
    "from maikol_utils import print_separator\n",
    "\n",
    "print_separator(\"START PROCESS\", sep_type=\"START\")\n",
    "print_separator(\"STEP COMPLETE\", sep_type=\"SHORT\")\n",
    "print_separator(\"FINAL RESULTS\", sep_type=\"SUPER\")\n"
   ]
  },
  {
   "cell_type": "markdown",
   "id": "df5b1bc2",
   "metadata": {},
   "source": [
    "`print_color` & `print_warn`"
   ]
  },
  {
   "cell_type": "code",
   "execution_count": 5,
   "id": "02632bbf",
   "metadata": {},
   "outputs": [
    {
     "name": "stdout",
     "output_type": "stream",
     "text": [
      "\u001b[32mAll systems go\u001b[0m\n",
      "\u001b[31mUnexpected value\u001b[0m\n",
      "\u001b[33m⚠️Missing config file!⚠️\u001b[0m\n",
      "\u001b[31m❌No model found!❌\u001b[0m\n"
     ]
    }
   ],
   "source": [
    "from maikol_utils import print_color, print_warn, print_error\n",
    "\n",
    "print_color(\"All systems go\", color=\"green\")\n",
    "print_color(\"Unexpected value\", color=\"red\")\n",
    "\n",
    "# Prints ⚠️Missing config file!⚠️ in yellow\n",
    "print_warn(\"Missing config file!\")\n",
    "\n",
    "# Prints ❌Missing config file!❌ in yellow\n",
    "text = print_error(\"No model found!\")"
   ]
  },
  {
   "cell_type": "markdown",
   "id": "edc0ab1a",
   "metadata": {},
   "source": [
    "`print_status`"
   ]
  },
  {
   "cell_type": "code",
   "execution_count": 6,
   "id": "b23c4f02",
   "metadata": {},
   "outputs": [
    {
     "name": "stdout",
     "output_type": "stream",
     "text": [
      "                                                                                                                                                                                                        \r"
     ]
    }
   ],
   "source": [
    "import time\n",
    "from maikol_utils import print_status\n",
    "\n",
    "for i in range(1, 4):\n",
    "    print_status(f\"Processing page {i}/3...\")\n",
    "    time.sleep(0.5)\n",
    "# At the end, call print_status(\"\") to clear the line\n",
    "print_status(\"\")\n"
   ]
  },
  {
   "cell_type": "markdown",
   "id": "63a9b927",
   "metadata": {},
   "source": [
    "`clear_bash` & `print_clear_bash`\n",
    "- this wont work here :)"
   ]
  },
  {
   "cell_type": "code",
   "execution_count": 10,
   "id": "a21b1059",
   "metadata": {},
   "outputs": [
    {
     "name": "stdout",
     "output_type": "stream",
     "text": [
      "Line A\n",
      "Line B\n",
      "\u001b[F\u001b[K\u001b[F\u001b[KClean slate!\n",
      "Loading data...\n",
      "\u001b[F\u001b[K✔️ Data loaded successfully!\n"
     ]
    }
   ],
   "source": [
    "import time\n",
    "from maikol_utils import clear_bash, print_clear_bash\n",
    "\n",
    "\n",
    "print(\"Line A\")\n",
    "print(\"Line B\")\n",
    "clear_bash(2)   # removes both lines from the terminal\n",
    "print(\"Clean slate!\")\n",
    "\n",
    "\n",
    "print(\"Loading data...\")\n",
    "time.sleep(1)\n",
    "print_clear_bash(\"✔️ Data loaded successfully!\", n_lines=1)\n",
    "\n"
   ]
  }
 ],
 "metadata": {
  "kernelspec": {
   "display_name": "Python (base_venv)",
   "language": "python",
   "name": "venv"
  },
  "language_info": {
   "codemirror_mode": {
    "name": "ipython",
    "version": 3
   },
   "file_extension": ".py",
   "mimetype": "text/x-python",
   "name": "python",
   "nbconvert_exporter": "python",
   "pygments_lexer": "ipython3",
   "version": "3.10.18"
  }
 },
 "nbformat": 4,
 "nbformat_minor": 5
}
