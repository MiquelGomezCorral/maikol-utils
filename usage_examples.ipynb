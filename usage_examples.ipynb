{
 "cells": [
  {
   "cell_type": "markdown",
   "id": "737616c8",
   "metadata": {},
   "source": [
    "# Hey, maikol here"
   ]
  },
  {
   "cell_type": "code",
   "execution_count": 20,
   "id": "021a9d36",
   "metadata": {},
   "outputs": [
    {
     "name": "stdout",
     "output_type": "stream",
     "text": [
      "The autoreload extension is already loaded. To reload it, use:\n",
      "  %reload_ext autoreload\n"
     ]
    }
   ],
   "source": [
    "%load_ext autoreload\n",
    "%autoreload 2"
   ]
  },
  {
   "cell_type": "markdown",
   "id": "725d5b37",
   "metadata": {},
   "source": [
    "### File functions"
   ]
  },
  {
   "cell_type": "markdown",
   "id": "423e92e9",
   "metadata": {},
   "source": [
    "`make_dirs`"
   ]
  },
  {
   "cell_type": "code",
   "execution_count": 23,
   "id": "1c862aa1",
   "metadata": {},
   "outputs": [],
   "source": [
    "from maikol_utils.file_utils import make_dirs\n",
    "\n",
    "dirs = [\"./data/input\", \"./data/output\"]\n",
    "# Safely creates all these directories if they don't exist\n",
    "make_dirs(dirs)"
   ]
  },
  {
   "cell_type": "markdown",
   "id": "a6d71dff",
   "metadata": {},
   "source": [
    "`check_dirs_existance`"
   ]
  },
  {
   "cell_type": "code",
   "execution_count": 24,
   "id": "2888c854",
   "metadata": {},
   "outputs": [
    {
     "name": "stdout",
     "output_type": "stream",
     "text": [
      "\"Some paths were not found: ['./config', './logs']\"\n"
     ]
    }
   ],
   "source": [
    "from maikol_utils.file_utils import check_dirs_existance\n",
    "\n",
    "dirs = [\"./data\", \"./config\", \"./logs\"]\n",
    "# Raises KeyError if any path is missing\n",
    "try:\n",
    "    check_dirs_existance(dirs)\n",
    "except KeyError as e:\n",
    "    print(e)  # e.g. \"Some paths were not found: ['./config', './logs']\"\n"
   ]
  },
  {
   "cell_type": "markdown",
   "id": "6a76d202",
   "metadata": {},
   "source": [
    "`save_json` & `load_json`"
   ]
  },
  {
   "cell_type": "code",
   "execution_count": 25,
   "id": "25121b8b",
   "metadata": {},
   "outputs": [
    {
     "name": "stdout",
     "output_type": "stream",
     "text": [
      "Saving output at outputs/users.json...\n",
      "Loading output from outputs/users.json...\n",
      "{'users': ['alice', 'bob'], 'count': 2}\n"
     ]
    }
   ],
   "source": [
    "from maikol_utils.file_utils import save_json, load_json\n",
    "\n",
    "data = {\"users\": [\"alice\", \"bob\"], \"count\": 2}\n",
    "# Saves to outputs/users.json, creating the folder if needed\n",
    "save_json(\"outputs/users.json\", data)\n",
    "\n",
    "# Attempt to load; if not found, returns {}\n",
    "settings = load_json(\"outputs/users.json\")\n",
    "print(settings)  # {\"users\": [\"alice\", \"bob\"], \"count\": 2}"
   ]
  },
  {
   "cell_type": "markdown",
   "id": "5350a200",
   "metadata": {},
   "source": [
    "### Printing"
   ]
  },
  {
   "cell_type": "markdown",
   "id": "32d53e89",
   "metadata": {},
   "source": [
    "`print_separator`"
   ]
  },
  {
   "cell_type": "code",
   "execution_count": 26,
   "id": "41e30203",
   "metadata": {},
   "outputs": [
    {
     "name": "stdout",
     "output_type": "stream",
     "text": [
      "\u001b[34m================================================================================================================================\n",
      "\u001b[0m\n",
      "\u001b[34m                                                         START PROCESS                                                          \n",
      "\u001b[0m\n",
      "\u001b[34m================================================================================================================================\n",
      "\u001b[0m\n",
      "________________________________\n",
      "         STEP COMPLETE          \n",
      "\n",
      "================================================================================================================================\n",
      "                                                         FINAL RESULTS                                                          \n",
      "================================================================================================================================\n",
      "\n"
     ]
    }
   ],
   "source": [
    "from maikol_utils.print_utils import print_separator\n",
    "\n",
    "print_separator(\"START PROCESS\", sep_type=\"START\")\n",
    "print_separator(\"STEP COMPLETE\", sep_type=\"SHORT\")\n",
    "print_separator(\"FINAL RESULTS\", sep_type=\"SUPER\")\n"
   ]
  },
  {
   "cell_type": "markdown",
   "id": "df5b1bc2",
   "metadata": {},
   "source": [
    "`print_color` & `print_warn`"
   ]
  },
  {
   "cell_type": "code",
   "execution_count": 27,
   "id": "02632bbf",
   "metadata": {},
   "outputs": [
    {
     "name": "stdout",
     "output_type": "stream",
     "text": [
      "\u001b[32mAll systems go\u001b[0m\n",
      "\u001b[31mUnexpected value\u001b[0m\n",
      "\u001b[33m⚠️Missing config file!⚠️\u001b[0m\n",
      "\u001b[31m❌No model found!❌\u001b[0m\n"
     ]
    }
   ],
   "source": [
    "from maikol_utils.print_utils import print_color, print_warn, print_error\n",
    "\n",
    "print_color(\"All systems go\", color=\"green\")\n",
    "print_color(\"Unexpected value\", color=\"red\")\n",
    "\n",
    "# Prints ⚠️Missing config file!⚠️ in yellow\n",
    "print_warn(\"Missing config file!\")\n",
    "\n",
    "# Prints ❌Missing config file!❌ in yellow\n",
    "text = print_error(\"No model found!\")"
   ]
  },
  {
   "cell_type": "markdown",
   "id": "edc0ab1a",
   "metadata": {},
   "source": [
    "`print_status`\n",
    "- this wont work here :)"
   ]
  },
  {
   "cell_type": "code",
   "execution_count": null,
   "id": "b23c4f02",
   "metadata": {},
   "outputs": [],
   "source": [
    "import time\n",
    "from maikol_utils.print_utils import print_status, clear_status\n",
    "\n",
    "print(\"Processing document...\")\n",
    "\n",
    "\n",
    "n_files = 3\n",
    "for i in range(1, n_files+1):\n",
    "    print_status(f\" - Processing page {i}/{n_files}...\")\n",
    "    time.sleep(0.5)\n",
    "# At the end call clear_status() to clear the previous line\n",
    "clear_status()\n",
    "\n",
    "print(\"DONE!\")\n",
    "\n",
    "\n",
    "\"\"\"\n",
    ">>> print(\"Processing document...\")\n",
    ">>> Processing document...\n",
    "\n",
    ">>> print_status(f\" - Processing page {i}/{n_files}...\")\n",
    ">>> Processing document...\n",
    ">>>  - Processing page 1/3\n",
    "\n",
    ">>> print_status(f\" - Processing page {i}/{n_files}...\")\n",
    ">>> Processing document...\n",
    ">>>  - Processing page 2/3\n",
    "\n",
    ">>> print_status(f\" - Processing page {i}/{n_files}...\")\n",
    ">>> Processing document...\n",
    ">>>  - Processing page 3/3\n",
    "\n",
    ">>> clear_status()\n",
    ">>> print(\"DONE!\")\n",
    ">>> Processing document...\n",
    ">>> DONE!\n",
    "\"\"\""
   ]
  },
  {
   "cell_type": "markdown",
   "id": "63a9b927",
   "metadata": {},
   "source": [
    "`clear_bash` & `print_clear_bash`\n",
    "- this wont work here :)"
   ]
  },
  {
   "cell_type": "code",
   "execution_count": null,
   "id": "a21b1059",
   "metadata": {},
   "outputs": [],
   "source": [
    "import time\n",
    "from maikol_utils.print_utils import clear_bash, print_clear_bash\n",
    "\n",
    "\n",
    "print(\"Line A\")\n",
    "time.sleep(1)\n",
    "print(\"Line B\")\n",
    "time.sleep(1)\n",
    "clear_bash(2)   # removes both lines from the terminal\n",
    "print(\"Clean slate!\")\n",
    "\n",
    "\n",
    "print(\"Loading data...\")\n",
    "time.sleep(1)\n",
    "print_clear_bash(\"✔️ Data loaded successfully!\", n_lines=1)\n",
    "\n",
    "\"\"\"\n",
    "\n",
    ">>> print(\"Line A\")\n",
    ">>> Line A\n",
    "\n",
    ">>> print(\"Line B\")\n",
    ">>> Line A\n",
    ">>> Line B\n",
    "\n",
    ">>> clear_bash(2) \n",
    ">>> \n",
    "\n",
    ">>> print(\"Clean slate!\")\n",
    ">>> Clean state!\n",
    "\n",
    ">>> print(\"Loading data...\")\n",
    ">>> Clean state!\n",
    ">>> Loading data...\n",
    "\n",
    ">>> print_clear_bash(\"✔️ Data loaded successfully!\", n_lines=1)\n",
    ">>> Clean state!\n",
    ">>> ✔️ Data loaded successfully!\n",
    "\"\"\"\n"
   ]
  },
  {
   "cell_type": "markdown",
   "id": "c44a7b82",
   "metadata": {},
   "source": [
    "# With logger"
   ]
  },
  {
   "cell_type": "markdown",
   "id": "c35d57ff",
   "metadata": {},
   "source": [
    "### Configuration"
   ]
  },
  {
   "cell_type": "code",
   "execution_count": 30,
   "id": "1cf23bfc",
   "metadata": {},
   "outputs": [],
   "source": [
    "import os\n",
    "import time\n",
    "import logging\n",
    "from dataclasses import dataclass\n",
    "\n",
    "from maikol_utils.print_utils import clear_bash, print_clear_bash, set_logger, print_log\n",
    "from logging.handlers import TimedRotatingFileHandler\n",
    "\n",
    "\n",
    "# ======================================================================================================               \n",
    "#                                              CONFIGURATION\n",
    "# ======================================================================================================\n",
    "@dataclass\n",
    "class Configuration:\n",
    "    logs_folder:           str = r\"logs\"\n",
    "    logs_path_file: str = fr\"{logs_folder}/app.log\"\n",
    "\n",
    "# ======================================================================================================               \n",
    "#                                              LOGGER FOR PRINT\n",
    "# ======================================================================================================\n",
    "class ColorFormatter(logging.Formatter):\n",
    "    COLORS = {\n",
    "        logging.DEBUG:    \"\\033[32m\",  # green\n",
    "        logging.INFO:     \"\\033[34m\",  # blue\n",
    "        logging.WARNING:  \"\\033[33m\",  # yellow-orange\n",
    "        logging.ERROR:    \"\\033[31m\",  # red\n",
    "        logging.CRITICAL: \"\\033[1;31m\" # bright red\n",
    "    }\n",
    "    RESET = \"\\033[0m\"\n",
    "\n",
    "    def format(self, record):\n",
    "        color = self.COLORS.get(record.levelno, \"\")\n",
    "        record.levelname = f\"{color}{record.levelname}{self.RESET}\"\n",
    "        return super().format(record)\n",
    "\n",
    "os.makedirs(Configuration.logs_folder, exist_ok=True)\n",
    "file_handler = TimedRotatingFileHandler(\n",
    "    Configuration.logs_path_file, when=\"midnight\", interval=1, backupCount=7, encoding=\"utf-8\"\n",
    ")\n",
    "file_handler.setFormatter(logging.Formatter(\n",
    "    \"%(asctime)s | %(levelname)s: %(message)s\", \"%Y-%m-%d %H:%M\"\n",
    "))\n",
    "\n",
    "# Create shared handler with your formatter\n",
    "handler = logging.StreamHandler()\n",
    "handler.setFormatter(ColorFormatter(\n",
    "    \"%(asctime)s | %(levelname)s: %(message)s\", \"%Y-%m-%d %H:%M\"\n",
    "))\n",
    "\n",
    "# Apply to your logger\n",
    "logger = logging.getLogger(__name__)\n",
    "logger.handlers.clear()\n",
    "logger.propagate = False\n",
    "logger.setLevel(logging.INFO)\n",
    "logger.addHandler(handler)\n",
    "logger.addHandler(file_handler)\n",
    "\n",
    "# Also apply to FastAPI and Uvicorn loggers\n",
    "for name in [\"uvicorn\", \"uvicorn.access\", \"uvicorn.error\"]:\n",
    "    log = logging.getLogger(name)\n",
    "    log.handlers.clear()\n",
    "    log.propagate = False\n",
    "    log.setLevel(logging.INFO)\n",
    "    log.addHandler(handler)"
   ]
  },
  {
   "cell_type": "markdown",
   "id": "32791840",
   "metadata": {},
   "source": [
    "### Example"
   ]
  },
  {
   "cell_type": "code",
   "execution_count": null,
   "id": "16c65520",
   "metadata": {},
   "outputs": [],
   "source": [
    "\n",
    "set_logger(logger)  \n",
    "print_log(\"Line A\")\n",
    "time.sleep(1)\n",
    "print_log(\"Line B\")\n",
    "time.sleep(1)\n",
    "clear_bash(2)   # removes both lines from the terminal\n",
    "print_log(\"Clean slate!\")\n",
    "\n",
    "\n",
    "print_log(\"Loading data...\")\n",
    "time.sleep(1)\n",
    "print_clear_bash(\"✔️ Data loaded successfully!\", n_lines=1)\n",
    "\n",
    "\"\"\"\n",
    "\n",
    ">>> print(\"Line A\")\n",
    ">>> 2025-07-21 09:53 | INFO: Line A\n",
    "\n",
    ">>> print(\"Line B\")\n",
    ">>> 2025-07-21 09:53 | INFO: Line A\n",
    ">>> 2025-07-21 09:53 | INFO: Line B\n",
    "\n",
    ">>> clear_bash(2) \n",
    ">>> \n",
    "\n",
    ">>> print(\"Clean slate!\")\n",
    ">>> 2025-07-21 09:53 | INFO: Clean state!\n",
    "\n",
    ">>> print(\"Loading data...\")\n",
    ">>> 2025-07-21 09:53 | INFO: Clean state!\n",
    ">>> 2025-07-21 09:53 | INFO: Loading data...\n",
    "\n",
    ">>> print_clear_bash(\"✔️ Data loaded successfully!\", n_lines=1)\n",
    ">>> 2025-07-21 09:53 | INFO: Clean state!\n",
    ">>> 2025-07-21 09:53 | INFO: ✔️ Data loaded successfully!\n",
    "\"\"\"\n"
   ]
  }
 ],
 "metadata": {
  "kernelspec": {
   "display_name": "Python (base_venv)",
   "language": "python",
   "name": "venv"
  },
  "language_info": {
   "codemirror_mode": {
    "name": "ipython",
    "version": 3
   },
   "file_extension": ".py",
   "mimetype": "text/x-python",
   "name": "python",
   "nbconvert_exporter": "python",
   "pygments_lexer": "ipython3",
   "version": "3.10.18"
  }
 },
 "nbformat": 4,
 "nbformat_minor": 5
}
