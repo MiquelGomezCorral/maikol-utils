{
 "cells": [
  {
   "cell_type": "markdown",
   "id": "737616c8",
   "metadata": {},
   "source": [
    "# Hey, maikol here"
   ]
  },
  {
   "cell_type": "markdown",
   "id": "725d5b37",
   "metadata": {},
   "source": [
    "### File functions"
   ]
  },
  {
   "cell_type": "markdown",
   "id": "a6d71dff",
   "metadata": {},
   "source": [
    "`check_dirs_existance`"
   ]
  },
  {
   "cell_type": "code",
   "execution_count": null,
   "id": "2888c854",
   "metadata": {},
   "outputs": [],
   "source": [
    "from maikol_utils import check_dirs_existance\n",
    "\n",
    "dirs = [\"./data\", \"./config\", \"./logs\"]\n",
    "# Raises KeyError if any path is missing\n",
    "try:\n",
    "    check_dirs_existance(dirs)\n",
    "except KeyError as e:\n",
    "    print(e)  # e.g. \"Some paths were not found: ['./config', './logs']\"\n"
   ]
  },
  {
   "cell_type": "markdown",
   "id": "7a6cba17",
   "metadata": {},
   "source": [
    "`make_dirs`"
   ]
  },
  {
   "cell_type": "code",
   "execution_count": null,
   "id": "4567fd99",
   "metadata": {},
   "outputs": [],
   "source": [
    "from maikol_utils import make_dirs\n",
    "\n",
    "dirs = [\"./data\", \"./data/input\", \"./data/output\"]\n",
    "# Safely creates a"
   ]
  },
  {
   "cell_type": "markdown",
   "id": "6a76d202",
   "metadata": {},
   "source": [
    "`save_json` & `load_json`"
   ]
  },
  {
   "cell_type": "code",
   "execution_count": null,
   "id": "25121b8b",
   "metadata": {},
   "outputs": [],
   "source": [
    "from maikol_utils import save_json, load_json\n",
    "\n",
    "data = {\"users\": [\"alice\", \"bob\"], \"count\": 2}\n",
    "# Saves to outputs/users.json, creating the folder if needed\n",
    "save_json(\"outputs/users.json\", data)\n",
    "\n",
    "# Attempt to load; if not found, returns {}\n",
    "settings = load_json(\"outputs/users.json\")\n",
    "print(settings)  # {\"users\": [\"alice\", \"bob\"], \"count\": 2}"
   ]
  },
  {
   "cell_type": "markdown",
   "id": "5350a200",
   "metadata": {},
   "source": [
    "### Printing"
   ]
  },
  {
   "cell_type": "markdown",
   "id": "32d53e89",
   "metadata": {},
   "source": [
    "`print_separator`"
   ]
  },
  {
   "cell_type": "code",
   "execution_count": null,
   "id": "41e30203",
   "metadata": {},
   "outputs": [],
   "source": [
    "from maikol_utils import print_separator\n",
    "\n",
    "print_separator(\"START PROCESS\", sep_type=\"START\")\n",
    "print_separator(\"STEP COMPLETE\", sep_type=\"SHORT\")\n",
    "print_separator(\"FINAL RESULTS\", sep_type=\"SUPER\")\n"
   ]
  },
  {
   "cell_type": "markdown",
   "id": "df5b1bc2",
   "metadata": {},
   "source": [
    "`print_color` & `print_warn`"
   ]
  },
  {
   "cell_type": "code",
   "execution_count": null,
   "id": "02632bbf",
   "metadata": {},
   "outputs": [],
   "source": [
    "from maikol_utils import print_color, print_warn, print_error\n",
    "\n",
    "print_color(\"All systems go\", color=\"green\")\n",
    "print_color(\"Unexpected value\", color=\"red\")\n",
    "\n",
    "# Prints ⚠️Missing config file!⚠️ in yellow\n",
    "print_warn(\"Missing config file!\")\n",
    "\n",
    "# Prints ❌Missing config file!❌ in yellow\n",
    "print_error(\"No model found!\")"
   ]
  },
  {
   "cell_type": "markdown",
   "id": "edc0ab1a",
   "metadata": {},
   "source": [
    "`print_status`"
   ]
  },
  {
   "cell_type": "code",
   "execution_count": null,
   "id": "b23c4f02",
   "metadata": {},
   "outputs": [],
   "source": [
    "import time\n",
    "from maikol_utils import print_status\n",
    "\n",
    "for i in range(1, 4):\n",
    "    print_status(f\"Processing page {i}/3...\")\n",
    "    time.sleep(0.5)\n",
    "# At the end, call print_status(\"\") to clear the line\n",
    "print_status(\"\")\n"
   ]
  },
  {
   "cell_type": "markdown",
   "id": "63a9b927",
   "metadata": {},
   "source": [
    "`clear_bash` & `print_clear_bash`"
   ]
  },
  {
   "cell_type": "code",
   "execution_count": null,
   "id": "a21b1059",
   "metadata": {},
   "outputs": [],
   "source": [
    "import time\n",
    "from maikol_utils import clear_bash, print_clear_bash\n",
    "\n",
    "\n",
    "print(\"Line A\")\n",
    "print(\"Line B\")\n",
    "clear_bash(2)   # removes both lines from the terminal\n",
    "print(\"Clean slate!\")\n",
    "\n",
    "\n",
    "print(\"Loading data...\")\n",
    "time.sleep(1)\n",
    "print_clear_bash(\"✔️ Data loaded successfully!\", n_lines=1)\n",
    "\n"
   ]
  }
 ],
 "metadata": {
  "kernelspec": {
   "display_name": "Python 3",
   "language": "python",
   "name": "python3"
  },
  "language_info": {
   "name": "python",
   "version": "3.10.17"
  }
 },
 "nbformat": 4,
 "nbformat_minor": 5
}
