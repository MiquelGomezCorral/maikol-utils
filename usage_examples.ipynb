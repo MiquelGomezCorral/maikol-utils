{
 "cells": [
  {
   "cell_type": "markdown",
   "id": "737616c8",
   "metadata": {},
   "source": [
    "# Hey, maikol here"
   ]
  },
  {
   "cell_type": "code",
   "execution_count": 1,
   "id": "021a9d36",
   "metadata": {},
   "outputs": [],
   "source": [
    "%load_ext autoreload\n",
    "%autoreload 2"
   ]
  },
  {
   "cell_type": "markdown",
   "id": "725d5b37",
   "metadata": {},
   "source": [
    "### File functions"
   ]
  },
  {
   "cell_type": "markdown",
   "id": "423e92e9",
   "metadata": {},
   "source": [
    "- `make_dirs`"
   ]
  },
  {
   "cell_type": "code",
   "execution_count": 90,
   "id": "1c862aa1",
   "metadata": {},
   "outputs": [],
   "source": [
    "from maikol_utils.file_utils import make_dirs\n",
    "\n",
    "dirs = [\"./data/input\", \"./data/output\"]\n",
    "# Safely creates all these directories if they don't exist\n",
    "make_dirs(dirs)"
   ]
  },
  {
   "cell_type": "markdown",
   "id": "a6d71dff",
   "metadata": {},
   "source": [
    "- `check_dirs_existance`"
   ]
  },
  {
   "cell_type": "code",
   "execution_count": 91,
   "id": "2888c854",
   "metadata": {},
   "outputs": [
    {
     "name": "stdout",
     "output_type": "stream",
     "text": [
      "\"Some paths were not found: ['./config', './outputs']\"\n"
     ]
    }
   ],
   "source": [
    "from maikol_utils.file_utils import check_dirs_existance\n",
    "\n",
    "dirs = [\"./data\", \"./config\", \"./logs\", \"./outputs\"]\n",
    "# Raises KeyError if any path is missing\n",
    "try:\n",
    "    check_dirs_existance(dirs)\n",
    "except KeyError as e:\n",
    "    print(e)  # e.g. \"Some paths were not found: ['./config', './logs']\"\n"
   ]
  },
  {
   "cell_type": "markdown",
   "id": "6a76d202",
   "metadata": {},
   "source": [
    "- `save_json` & `load_json`"
   ]
  },
  {
   "cell_type": "code",
   "execution_count": 92,
   "id": "25121b8b",
   "metadata": {},
   "outputs": [
    {
     "name": "stdout",
     "output_type": "stream",
     "text": [
      "Saving output at outputs/users.json...\n",
      "Loading output from outputs/users.json...\n",
      "{'users': ['alice', 'bob'], 'count': 2}\n"
     ]
    }
   ],
   "source": [
    "from maikol_utils.file_utils import save_json, load_json\n",
    "\n",
    "data = {\"users\": [\"alice\", \"bob\"], \"count\": 2}\n",
    "# Saves to outputs/users.json, creating the folder if needed\n",
    "save_json(\"outputs/users.json\", data)\n",
    "\n",
    "# Attempt to load; if not found, returns {}\n",
    "settings = load_json(\"outputs/users.json\")\n",
    "print(settings)  # {\"users\": [\"alice\", \"bob\"], \"count\": 2}"
   ]
  },
  {
   "cell_type": "markdown",
   "id": "e7c47c4e",
   "metadata": {},
   "source": [
    "- `clear_directories`"
   ]
  },
  {
   "cell_type": "code",
   "execution_count": 93,
   "id": "a02a08bb",
   "metadata": {},
   "outputs": [
    {
     "name": "stdout",
     "output_type": "stream",
     "text": [
      "Cleared ./data\n",
      "\u001b[33m⚠️'./config' not found or not a dir⚠️\u001b[0m\n",
      "Cleared ./logs\n",
      "Cleared ./outputs\n",
      "________________________________________________________________\n",
      "                                                                \n",
      "\n",
      "Removed ./data\n",
      "\u001b[33m⚠️'./config' not found or not a dir⚠️\u001b[0m\n",
      "Removed ./logs\n",
      "Removed ./outputs\n"
     ]
    }
   ],
   "source": [
    "from maikol_utils.file_utils import clear_directories\n",
    "from maikol_utils.print_utils import print_separator\n",
    "\n",
    "dirs = [\"./data\", \"./config\", \"./logs\", \"./outputs\"]\n",
    "clear_directories(dirs, remove_folder=False)\n",
    "\n",
    "print_separator(\" \")\n",
    "\n",
    "clear_directories(dirs, remove_folder=True)\n",
    "\n"
   ]
  },
  {
   "cell_type": "markdown",
   "id": "ac6d3bbe",
   "metadata": {},
   "source": [
    "- `list_dir_files`"
   ]
  },
  {
   "cell_type": "code",
   "execution_count": 4,
   "id": "1066a3b7",
   "metadata": {},
   "outputs": [
    {
     "name": "stdout",
     "output_type": "stream",
     "text": [
      "________________________________________________________________________________________________________________________________\n",
      "                                                           Basic call                                                           \n",
      "\n",
      "n_files = 6\n",
      "dir_list = ['./tests/test.py', './tests/x_1.txt', './tests/x_2.txt', './tests/x_10.txt', './tests/x_20.txt', './tests/x_21.txt']\n",
      "________________________________________________________________________________________________________________________________\n",
      "                                                      Max number of files                                                       \n",
      "\n",
      "n_files = 5\n",
      "dir_list = ['./tests/test.py', './tests/x_1.txt', './tests/x_2.txt', './tests/x_10.txt', './tests/x_20.txt']\n",
      "________________________________________________________________________________________________________________________________\n",
      "                                                   Non existing path -> Error                                                   \n",
      "\n",
      "\u001b[31m❌NO SUCH DIRECTORY: './AAAAAAAAAAAAAAAAAAAAAAAAAAAAAAAAAAAAAA'❌\u001b[0m\n",
      "([], 0)\n",
      "________________________________________________________________________________________________________________________________\n",
      "                                               Natural sorting and python sorting                                               \n",
      "\n",
      "['./tests/test.py', './tests/x_1.txt', './tests/x_2.txt', './tests/x_10.txt', './tests/x_20.txt', './tests/x_21.txt']\n",
      "['./tests/test.py', './tests/x_1.txt', './tests/x_10.txt', './tests/x_2.txt', './tests/x_20.txt', './tests/x_21.txt']\n",
      "________________________________________________________________________________________________________________________________\n",
      "                                              Recursivelly get files in subfolders                                              \n",
      "\n",
      "['./tests/more-test/y_1.txt', './tests/more-test/y_2.txt', './tests/more-test/y_10.txt', './tests/more-test/y_20.txt', './tests/more-test/y_21.txt', './tests/test.py', './tests/x_1.txt']\n",
      "________________________________________________________________________________________________________________________________\n",
      "                                        Remove the absolute path from the returned files                                        \n",
      "\n",
      "['more-test/y_1.txt', 'more-test/y_2.txt', 'more-test/y_10.txt', 'more-test/y_20.txt', 'more-test/y_21.txt', 'test.py', 'x_1.txt']\n"
     ]
    }
   ],
   "source": [
    "from maikol_utils.file_utils import list_dir_files\n",
    "from maikol_utils.print_utils import print_separator\n",
    "\n",
    "print_separator(\"Basic call\", sep_type=\"LONG\")\n",
    "dir_list, n_files = list_dir_files(\"./tests\")\n",
    "print(f\"{n_files = }\")\n",
    "print(f\"{dir_list = }\")\n",
    "\n",
    "print_separator(\"Max number of files\", sep_type=\"LONG\")\n",
    "dir_list, n_files = list_dir_files(\"./tests\", max_files=5)\n",
    "print(f\"{n_files = }\")\n",
    "print(f\"{dir_list = }\")\n",
    "\n",
    "print_separator(\"Non existing path -> Error\", sep_type=\"LONG\")\n",
    "print(list_dir_files(\"./AAAAAAAAAAAAAAAAAAAAAAAAAAAAAAAAAAAAAA\"))\n",
    "\n",
    "print_separator(\"Natural sorting and python sorting\", sep_type=\"LONG\")\n",
    "print(list_dir_files(\"./tests\")[0])\n",
    "print(list_dir_files(\"./tests\", nat_sorting=False)[0])\n",
    "\n",
    "print_separator(\"Recursivelly get files in subfolders\", sep_type=\"LONG\")\n",
    "print(list_dir_files(\"./tests\", recursive=True, max_files=7)[0])\n",
    "\n",
    "print_separator(\"Remove the absolute path from the returned files\", sep_type=\"LONG\")\n",
    "print(list_dir_files(\"./tests\", recursive=True, max_files=7, absolute_path=False)[0])"
   ]
  },
  {
   "cell_type": "markdown",
   "id": "321bcec6",
   "metadata": {},
   "source": [
    "Look the `numbered files` ^^^^ up there in the last!!!"
   ]
  },
  {
   "cell_type": "markdown",
   "id": "0e87a00d",
   "metadata": {},
   "source": [
    "- magange_temp_files"
   ]
  },
  {
   "cell_type": "code",
   "execution_count": 12,
   "id": "8c4a9255",
   "metadata": {},
   "outputs": [
    {
     "name": "stdout",
     "output_type": "stream",
     "text": [
      " - Executing 'long_task_llm' for '0'...                                                                                         Saving output at ./temp/0.json...\n",
      " - Executing 'long_task_llm' for '1'...                                                                                         Saving output at ./temp/1.json...\n",
      " - Executing 'long_task_llm' for '2'...                                                                                         Saving output at ./temp/2.json...\n",
      "________________________________________________________________\n",
      "                    Simulating process stop                     \n",
      "\n",
      " - Skiping '0': Temp file found at './temp/0.json'\n",
      " - Skiping '1': Temp file found at './temp/1.json'\n",
      " - Skiping '2': Temp file found at './temp/2.json'\n",
      " - Executing 'long_task_llm' for '3'...                                                                                         Saving output at ./temp/3.json...\n",
      " - Executing 'long_task_llm' for '4'...                                                                                         Saving output at ./temp/4.json...\n",
      " - Executing 'long_task_llm' for '5'...                                                                                         Saving output at ./temp/5.json...\n",
      "Removed temp/\n"
     ]
    }
   ],
   "source": [
    "import time\n",
    "from typing import Any\n",
    "from maikol_utils.file_utils import magange_temp_files, clear_directories\n",
    "from maikol_utils.print_utils import print_separator\n",
    "\n",
    "def long_task_llm(llm_client: Any, page: str, verbose: bool = True):\n",
    "    time.sleep(1)\n",
    "    res = page.split()\n",
    "    if verbose: print(res)\n",
    "    return res, f\"res: {res}\"\n",
    "\n",
    "llm_client = {}\n",
    "pages = [\n",
    "    \"AA? \"*i for i in range(10)\n",
    "]\n",
    "\n",
    "for i in range(3):\n",
    "    magange_temp_files(\n",
    "        i,                     # call_key\n",
    "        \"./temp\",              # temp_folder_path\n",
    "        long_task_llm,         # function\n",
    "        True,                  # manage_temp_files _verbose\n",
    "        llm_client,            # *args -> function arg 1\n",
    "        pages[i],              # *args -> function arg 2\n",
    "        verbose=False          # **kwargs -> function keyword arg\n",
    "    )\n",
    "\n",
    "print_separator(\"Simulating process stop\")\n",
    "\n",
    "for i in range(6):\n",
    "    out1, out2 = magange_temp_files(\n",
    "        i,                     # call_key\n",
    "        \"./temp\",              # temp_folder_path\n",
    "        long_task_llm,         # function\n",
    "        True,                  # manage_temp_files _verbose\n",
    "        llm_client,            # *args -> function arg 1\n",
    "        pages[i],              # *args -> function arg 2\n",
    "        verbose=False          # **kwargs -> function keyword arg\n",
    "    )\n",
    "\n",
    "clear_directories([\"temp/\"], remove_folder=True)\n"
   ]
  },
  {
   "cell_type": "markdown",
   "id": "5350a200",
   "metadata": {},
   "source": [
    "### Printing"
   ]
  },
  {
   "cell_type": "markdown",
   "id": "32d53e89",
   "metadata": {},
   "source": [
    "- `print_separator`"
   ]
  },
  {
   "cell_type": "code",
   "execution_count": 95,
   "id": "41e30203",
   "metadata": {},
   "outputs": [
    {
     "name": "stdout",
     "output_type": "stream",
     "text": [
      "________________________________________________________________\n",
      "________________________________________________________________\n",
      "________________________________________________________________\n",
      "                                                                \n",
      "\n",
      "________________________________________________________________\n",
      "                                                                \n",
      "\n",
      "\u001b[34m================================================================================================================================\n",
      "\u001b[0m\n",
      "\u001b[34m                                                         START PROCESS                                                          \n",
      "\u001b[0m\n",
      "\u001b[34m================================================================================================================================\n",
      "\u001b[0m\n",
      "________________________________\n",
      "         STEP COMPLETE          \n",
      "\n",
      "================================================================================================================================\n",
      "                                                         FINAL RESULTS                                                          \n",
      "================================================================================================================================\n",
      "\n"
     ]
    }
   ],
   "source": [
    "from maikol_utils.print_utils import print_separator\n",
    "\n",
    "print_separator()\n",
    "print_separator()\n",
    "print_separator(\" \") # creates a separation line\n",
    "print_separator(\" \") # creates a separation line\n",
    "\n",
    "print_separator(\"START PROCESS\", sep_type=\"START\")\n",
    "print_separator(\"STEP COMPLETE\", sep_type=\"SHORT\")\n",
    "print_separator(\"FINAL RESULTS\", sep_type=\"SUPER\")\n",
    "\n"
   ]
  },
  {
   "cell_type": "markdown",
   "id": "df5b1bc2",
   "metadata": {},
   "source": [
    "- `print_color` & `print_warn`"
   ]
  },
  {
   "cell_type": "code",
   "execution_count": 96,
   "id": "02632bbf",
   "metadata": {},
   "outputs": [
    {
     "name": "stdout",
     "output_type": "stream",
     "text": [
      "\u001b[32mAll systems go\u001b[0m\n",
      "\u001b[31mUnexpected value\u001b[0m\n",
      "\u001b[33m⚠️Missing config file!⚠️\u001b[0m\n",
      "\u001b[31m❌No model found!❌\u001b[0m\n"
     ]
    }
   ],
   "source": [
    "from maikol_utils.print_utils import print_color, print_warn, print_error\n",
    "\n",
    "print_color(\"All systems go\", color=\"green\")\n",
    "print_color(\"Unexpected value\", color=\"red\")\n",
    "\n",
    "# Prints ⚠️Missing config file!⚠️ in yellow\n",
    "print_warn(\"Missing config file!\")\n",
    "\n",
    "# Prints ❌Missing config file!❌ in yellow\n",
    "text = print_error(\"No model found!\")"
   ]
  },
  {
   "cell_type": "markdown",
   "id": "edc0ab1a",
   "metadata": {},
   "source": [
    "- `print_status`\n",
    "    - this wont work here :)"
   ]
  },
  {
   "cell_type": "code",
   "execution_count": 97,
   "id": "b23c4f02",
   "metadata": {},
   "outputs": [
    {
     "name": "stdout",
     "output_type": "stream",
     "text": [
      "Processing document...\n",
      "DONE!ocessing page 3/3...                                                                                                                                                                                                                                                                                                                                                                                                                                                                       \n"
     ]
    },
    {
     "data": {
      "text/plain": [
       "'\\n>>> print(\"Processing document...\")\\n>>> Processing document...\\n\\n>>> print_status(f\" - Processing page {i}/{n_files}...\")\\n>>> Processing document...\\n>>>  - Processing page 1/3\\n\\n>>> print_status(f\" - Processing page {i}/{n_files}...\")\\n>>> Processing document...\\n>>>  - Processing page 2/3\\n\\n>>> print_status(f\" - Processing page {i}/{n_files}...\")\\n>>> Processing document...\\n>>>  - Processing page 3/3\\n\\n>>> clear_status()\\n>>> print(\"DONE!\")\\n>>> Processing document...\\n>>> DONE!\\n'"
      ]
     },
     "execution_count": 97,
     "metadata": {},
     "output_type": "execute_result"
    }
   ],
   "source": [
    "import time\n",
    "from maikol_utils.print_utils import print_status, clear_status\n",
    "\n",
    "print(\"Processing document...\")\n",
    "\n",
    "\n",
    "n_files = 3\n",
    "for i in range(1, n_files+1):\n",
    "    print_status(f\" - Processing page {i}/{n_files}...\")\n",
    "    time.sleep(0.5)\n",
    "# At the end call clear_status() to clear the previous line\n",
    "clear_status()\n",
    "\n",
    "print(\"DONE!\")\n",
    "\n",
    "\n",
    "\"\"\"\n",
    ">>> print(\"Processing document...\")\n",
    ">>> Processing document...\n",
    "\n",
    ">>> print_status(f\" - Processing page {i}/{n_files}...\")\n",
    ">>> Processing document...\n",
    ">>>  - Processing page 1/3\n",
    "\n",
    ">>> print_status(f\" - Processing page {i}/{n_files}...\")\n",
    ">>> Processing document...\n",
    ">>>  - Processing page 2/3\n",
    "\n",
    ">>> print_status(f\" - Processing page {i}/{n_files}...\")\n",
    ">>> Processing document...\n",
    ">>>  - Processing page 3/3\n",
    "\n",
    ">>> clear_status()\n",
    ">>> print(\"DONE!\")\n",
    ">>> Processing document...\n",
    ">>> DONE!\n",
    "\"\"\""
   ]
  },
  {
   "cell_type": "markdown",
   "id": "63a9b927",
   "metadata": {},
   "source": [
    "- `clear_bash` & `print_clear_bash`\n",
    "    - this wont work here :)"
   ]
  },
  {
   "cell_type": "code",
   "execution_count": 98,
   "id": "a21b1059",
   "metadata": {},
   "outputs": [
    {
     "name": "stdout",
     "output_type": "stream",
     "text": [
      "Line A\n",
      "Line B\n",
      "\u001b[F\u001b[K\u001b[F\u001b[KClean slate!\n",
      "Loading data...\n",
      "\u001b[F\u001b[K✔️ Data loaded successfully!\n"
     ]
    },
    {
     "data": {
      "text/plain": [
       "'\\n\\n>>> print(\"Line A\")\\n>>> Line A\\n\\n>>> print(\"Line B\")\\n>>> Line A\\n>>> Line B\\n\\n>>> clear_bash(2) \\n>>> \\n\\n>>> print(\"Clean slate!\")\\n>>> Clean state!\\n\\n>>> print(\"Loading data...\")\\n>>> Clean state!\\n>>> Loading data...\\n\\n>>> print_clear_bash(\"✔️ Data loaded successfully!\", n_lines=1)\\n>>> Clean state!\\n>>> ✔️ Data loaded successfully!\\n'"
      ]
     },
     "execution_count": 98,
     "metadata": {},
     "output_type": "execute_result"
    }
   ],
   "source": [
    "import time\n",
    "from maikol_utils.print_utils import clear_bash, print_clear_bash\n",
    "\n",
    "\n",
    "print(\"Line A\")\n",
    "time.sleep(1)\n",
    "print(\"Line B\")\n",
    "time.sleep(1)\n",
    "clear_bash(2)   # removes both lines from the terminal\n",
    "print(\"Clean slate!\")\n",
    "\n",
    "\n",
    "print(\"Loading data...\")\n",
    "time.sleep(1)\n",
    "print_clear_bash(\"✔️ Data loaded successfully!\", n_lines=1)\n",
    "\n",
    "\"\"\"\n",
    "\n",
    ">>> print(\"Line A\")\n",
    ">>> Line A\n",
    "\n",
    ">>> print(\"Line B\")\n",
    ">>> Line A\n",
    ">>> Line B\n",
    "\n",
    ">>> clear_bash(2) \n",
    ">>> \n",
    "\n",
    ">>> print(\"Clean slate!\")\n",
    ">>> Clean state!\n",
    "\n",
    ">>> print(\"Loading data...\")\n",
    ">>> Clean state!\n",
    ">>> Loading data...\n",
    "\n",
    ">>> print_clear_bash(\"✔️ Data loaded successfully!\", n_lines=1)\n",
    ">>> Clean state!\n",
    ">>> ✔️ Data loaded successfully!\n",
    "\"\"\"\n"
   ]
  },
  {
   "cell_type": "markdown",
   "id": "c44a7b82",
   "metadata": {},
   "source": [
    "### With logger"
   ]
  },
  {
   "cell_type": "markdown",
   "id": "c35d57ff",
   "metadata": {},
   "source": [
    "- Configuration"
   ]
  },
  {
   "cell_type": "code",
   "execution_count": 99,
   "id": "1cf23bfc",
   "metadata": {},
   "outputs": [],
   "source": [
    "import os\n",
    "import time\n",
    "import logging\n",
    "from dataclasses import dataclass\n",
    "\n",
    "from maikol_utils.print_utils import clear_bash, print_clear_bash, print_log\n",
    "from maikol_utils.config import set_logger\n",
    "from logging.handlers import TimedRotatingFileHandler\n",
    "\n",
    "\n",
    "# ======================================================================================================               \n",
    "#                                              CONFIGURATION\n",
    "# ======================================================================================================\n",
    "@dataclass\n",
    "class Configuration:\n",
    "    logs_folder:           str = r\"logs\"\n",
    "    logs_path_file: str = fr\"{logs_folder}/app.log\"\n",
    "\n",
    "# ======================================================================================================               \n",
    "#                                              LOGGER FOR PRINT\n",
    "# ======================================================================================================\n",
    "class ColorFormatter(logging.Formatter):\n",
    "    COLORS = {\n",
    "        logging.DEBUG:    \"\\033[32m\",  # green\n",
    "        logging.INFO:     \"\\033[34m\",  # blue\n",
    "        logging.WARNING:  \"\\033[33m\",  # yellow-orange\n",
    "        logging.ERROR:    \"\\033[31m\",  # red\n",
    "        logging.CRITICAL: \"\\033[1;31m\" # bright red\n",
    "    }\n",
    "    RESET = \"\\033[0m\"\n",
    "\n",
    "    def format(self, record):\n",
    "        color = self.COLORS.get(record.levelno, \"\")\n",
    "        record.levelname = f\"{color}{record.levelname}{self.RESET}\"\n",
    "        return super().format(record)\n",
    "\n",
    "os.makedirs(Configuration.logs_folder, exist_ok=True)\n",
    "file_handler = TimedRotatingFileHandler(\n",
    "    Configuration.logs_path_file, when=\"midnight\", interval=1, backupCount=7, encoding=\"utf-8\"\n",
    ")\n",
    "file_handler.setFormatter(logging.Formatter(\n",
    "    \"%(asctime)s | %(levelname)s: %(message)s\", \"%Y-%m-%d %H:%M\"\n",
    "))\n",
    "\n",
    "# Create shared handler with your formatter\n",
    "handler = logging.StreamHandler()\n",
    "handler.setFormatter(ColorFormatter(\n",
    "    \"%(asctime)s | %(levelname)s: %(message)s\", \"%Y-%m-%d %H:%M\"\n",
    "))\n",
    "\n",
    "# Apply to your logger\n",
    "logger = logging.getLogger(__name__)\n",
    "logger.handlers.clear()\n",
    "logger.propagate = False\n",
    "logger.setLevel(logging.INFO)\n",
    "logger.addHandler(handler)\n",
    "logger.addHandler(file_handler)\n",
    "\n",
    "# Also apply to FastAPI and Uvicorn loggers\n",
    "for name in [\"uvicorn\", \"uvicorn.access\", \"uvicorn.error\"]:\n",
    "    log = logging.getLogger(name)\n",
    "    log.handlers.clear()\n",
    "    log.propagate = False\n",
    "    log.setLevel(logging.INFO)\n",
    "    log.addHandler(handler)"
   ]
  },
  {
   "cell_type": "markdown",
   "id": "32791840",
   "metadata": {},
   "source": [
    "- Example"
   ]
  },
  {
   "cell_type": "code",
   "execution_count": 100,
   "id": "16c65520",
   "metadata": {},
   "outputs": [
    {
     "name": "stdout",
     "output_type": "stream",
     "text": [
      "Line A\n",
      "Line B\n",
      "\u001b[F\u001b[K\u001b[F\u001b[KClean slate!\n",
      "Loading data...\n",
      "\u001b[F\u001b[K✔️ Data loaded successfully!\n"
     ]
    },
    {
     "data": {
      "text/plain": [
       "'\\n\\n>>> print(\"Line A\")\\n>>> 2025-07-21 09:53 | INFO: Line A\\n\\n>>> print(\"Line B\")\\n>>> 2025-07-21 09:53 | INFO: Line A\\n>>> 2025-07-21 09:53 | INFO: Line B\\n\\n>>> clear_bash(2) \\n>>> \\n\\n>>> print(\"Clean slate!\")\\n>>> 2025-07-21 09:53 | INFO: Clean state!\\n\\n>>> print(\"Loading data...\")\\n>>> 2025-07-21 09:53 | INFO: Clean state!\\n>>> 2025-07-21 09:53 | INFO: Loading data...\\n\\n>>> print_clear_bash(\"✔️ Data loaded successfully!\", n_lines=1)\\n>>> 2025-07-21 09:53 | INFO: Clean state!\\n>>> 2025-07-21 09:53 | INFO: ✔️ Data loaded successfully!\\n'"
      ]
     },
     "execution_count": 100,
     "metadata": {},
     "output_type": "execute_result"
    }
   ],
   "source": [
    "\n",
    "set_logger(logger)  \n",
    "print_log(\"Line A\")\n",
    "time.sleep(1)\n",
    "print_log(\"Line B\")\n",
    "time.sleep(1)\n",
    "clear_bash(2)   # removes both lines from the terminal\n",
    "print_log(\"Clean slate!\")\n",
    "\n",
    "\n",
    "print_log(\"Loading data...\")\n",
    "time.sleep(1)\n",
    "print_clear_bash(\"✔️ Data loaded successfully!\", n_lines=1)\n",
    "\n",
    "\"\"\"\n",
    "\n",
    ">>> print(\"Line A\")\n",
    ">>> 2025-07-21 09:53 | INFO: Line A\n",
    "\n",
    ">>> print(\"Line B\")\n",
    ">>> 2025-07-21 09:53 | INFO: Line A\n",
    ">>> 2025-07-21 09:53 | INFO: Line B\n",
    "\n",
    ">>> clear_bash(2) \n",
    ">>> \n",
    "\n",
    ">>> print(\"Clean slate!\")\n",
    ">>> 2025-07-21 09:53 | INFO: Clean state!\n",
    "\n",
    ">>> print(\"Loading data...\")\n",
    ">>> 2025-07-21 09:53 | INFO: Clean state!\n",
    ">>> 2025-07-21 09:53 | INFO: Loading data...\n",
    "\n",
    ">>> print_clear_bash(\"✔️ Data loaded successfully!\", n_lines=1)\n",
    ">>> 2025-07-21 09:53 | INFO: Clean state!\n",
    ">>> 2025-07-21 09:53 | INFO: ✔️ Data loaded successfully!\n",
    "\"\"\"\n"
   ]
  }
 ],
 "metadata": {
  "kernelspec": {
   "display_name": "base_env",
   "language": "python",
   "name": "python3"
  },
  "language_info": {
   "codemirror_mode": {
    "name": "ipython",
    "version": 3
   },
   "file_extension": ".py",
   "mimetype": "text/x-python",
   "name": "python",
   "nbconvert_exporter": "python",
   "pygments_lexer": "ipython3",
   "version": "3.10.18"
  }
 },
 "nbformat": 4,
 "nbformat_minor": 5
}
